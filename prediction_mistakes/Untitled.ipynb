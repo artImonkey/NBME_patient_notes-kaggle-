{
 "cells": [
  {
   "cell_type": "code",
   "execution_count": 6,
   "id": "32adb625",
   "metadata": {},
   "outputs": [
    {
     "name": "stdout",
     "output_type": "stream",
     "text": [
      "[list([[716, 735]]) list([[692, 714]]) list([[250, 264]]) ...\n",
      " list([[268, 290]]) list([]) list([[376, 386]])]\n"
     ]
    }
   ],
   "source": [
    "import numpy as np\n",
    "j = np.load('preds_fold0.npy',allow_pickle = True)\n",
    "print(j)"
   ]
  },
  {
   "cell_type": "code",
   "execution_count": null,
   "id": "2916ad8c",
   "metadata": {},
   "outputs": [],
   "source": []
  }
 ],
 "metadata": {
  "kernelspec": {
   "display_name": "Python 3 (ipykernel)",
   "language": "python",
   "name": "python3"
  },
  "language_info": {
   "codemirror_mode": {
    "name": "ipython",
    "version": 3
   },
   "file_extension": ".py",
   "mimetype": "text/x-python",
   "name": "python",
   "nbconvert_exporter": "python",
   "pygments_lexer": "ipython3",
   "version": "3.9.7"
  }
 },
 "nbformat": 4,
 "nbformat_minor": 5
}
