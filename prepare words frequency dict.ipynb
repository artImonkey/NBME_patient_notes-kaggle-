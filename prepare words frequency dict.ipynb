{
 "cells": [
  {
   "cell_type": "code",
   "execution_count": 34,
   "metadata": {},
   "outputs": [],
   "source": [
    "import pandas as pd\n",
    "import re\n",
    "with open('dicts/medical_dict.txt','r') as med:\n",
    "    a = med.readlines()\n",
    "    a = [i.encode('ascii', errors='ignore') for i in a]\n",
    "    a = [str(line)[2:-3] for line in a]\n",
    "    words = []\n",
    "    for line in a:\n",
    "        line = line.lower()\n",
    "        line = re.findall(r'[a-z\\']+',line)\n",
    "        for word in line:\n",
    "            words.append(word)\n",
    "\n",
    "with open('dicts/medical_words.txt','w') as mw:\n",
    "    for word in words:\n",
    "        c = 9181174698\n",
    "        mw.write(word + ' ' + str(c-1) + '\\n')\n",
    "with open('dicts/frequency_dictionary_en.txt','r') as fr:\n",
    "    dic = fr.readlines()\n",
    "    base_dict = set()\n",
    "    for i in range(len(dic)):\n",
    "        base_dict.add(dic[i].split()[0])\n",
    "with open('dicts/frequency_dictionary_en.txt','a') as fr:\n",
    "    c = 9181174698\n",
    "    for word in words:\n",
    "        if word in base_dict:\n",
    "            pass\n",
    "        else:\n",
    "            fr.write(word + ' ' + str(c-1) + '\\n')\n"
   ]
  },
  {
   "cell_type": "code",
   "execution_count": null,
   "metadata": {},
   "outputs": [],
   "source": []
  },
  {
   "cell_type": "code",
   "execution_count": null,
   "metadata": {},
   "outputs": [],
   "source": []
  }
 ],
 "metadata": {
  "kernelspec": {
   "display_name": "Python 3",
   "language": "python",
   "name": "python3"
  },
  "language_info": {
   "codemirror_mode": {
    "name": "ipython",
    "version": 3
   },
   "file_extension": ".py",
   "mimetype": "text/x-python",
   "name": "python",
   "nbconvert_exporter": "python",
   "pygments_lexer": "ipython3",
   "version": "3.7.4"
  }
 },
 "nbformat": 4,
 "nbformat_minor": 2
}
